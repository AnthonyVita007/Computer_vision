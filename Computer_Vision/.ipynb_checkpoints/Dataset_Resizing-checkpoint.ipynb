{
 "cells": [
  {
   "cell_type": "markdown",
   "id": "d95dddbe-412b-4637-84cf-0ef9c2af0562",
   "metadata": {},
   "source": [
    "# Script di Pre-Elaborazione per il Ridimensionamento del Dataset\n",
    "\n",
    "Questo notebook contiene uno script per eseguire il ridimensionamento di tutte le immagini presenti nel dataset `FER2013`.\n",
    "\n",
    "**Obiettivo:**\n",
    "- Leggere le immagini originali (48x48 pixel) dalle cartelle `dataset/train` e `dataset/test`.\n",
    "- Ridimensionare ogni immagine alla dimensione richiesta da MobileNetV2 (224x224 pixel).\n",
    "- Salvare le nuove immagini in una nuova struttura di cartelle (`dataset_resized/`), mantenendo la stessa organizzazione di `train`, `test` e delle sottocartelle delle classi (da \"0\" a \"6\").\n",
    "\n",
    "Questo processo va eseguito **una sola volta** per preparare i dati. I notebook successivi per l'addestramento del modello caricheranno i dati direttamente dalla cartella `dataset_resized/`, rendendo l'operazione molto più veloce."
   ]
  },
  {
   "cell_type": "code",
   "execution_count": 1,
   "id": "c511adfa-44cf-4817-b9b2-c712edf10db8",
   "metadata": {},
   "outputs": [
    {
     "name": "stdout",
     "output_type": "stream",
     "text": [
      "Librerie importate correttamente.\n"
     ]
    }
   ],
   "source": [
    "import cv2\n",
    "import os\n",
    "import numpy as np\n",
    "\n",
    "print(\"Librerie importate correttamente.\")"
   ]
  },
  {
   "cell_type": "code",
   "execution_count": 2,
   "id": "c6d79c6f-d67b-4d20-8404-ad4039df232f",
   "metadata": {},
   "outputs": [],
   "source": [
    "# --- PARAMETRI DI CONFIGURAZIONE ---\n",
    "\n",
    "# Percorso della cartella principale con i dati originali\n",
    "input_base_dir = \"../Computer_Vision/dataset/\"\n",
    "\n",
    "# Percorso della cartella principale dove salvare i dati ridimensionati\n",
    "# Verrà creata automaticamente se non esiste.\n",
    "output_base_dir = \"../Computer_Vision/dataset_resized\"\n",
    "\n",
    "# Dimensione desiderata per le immagini (altezza e larghezza)\n",
    "img_size = 224\n",
    "\n",
    "# Elenco delle sotto-cartelle principali da processare (es. train e test)\n",
    "# Lo script cercherà queste cartelle all'interno di 'input_base_dir'\n",
    "folders_to_process = [\"train\", \"test\"]"
   ]
  },
  {
   "cell_type": "code",
   "execution_count": 3,
   "id": "ba6895e8-6622-40da-8bff-5e93feedd53d",
   "metadata": {},
   "outputs": [],
   "source": [
    "def resize_dataset(input_base, output_base, folders, target_size):\n",
    "    \"\"\"\n",
    "    Funzione che esegue il resize di tutte le immagini in un dataset, \n",
    "    mantenendo la struttura delle cartelle.\n",
    "\n",
    "    Args:\n",
    "        input_base (str): Percorso della cartella principale di input.\n",
    "        output_base (str): Percorso della cartella principale di output.\n",
    "        folders (list): Lista di sottocartelle da processare (es. ['train', 'test']).\n",
    "        target_size (int): La dimensione desiderata per il lato dell'immagine (es. 224).\n",
    "    \"\"\"\n",
    "    print(\"--- Inizio del processo di ridimensionamento del dataset ---\")\n",
    "    \n",
    "    # 1. Itera sulle cartelle principali (es. \"train\", poi \"test\")\n",
    "    for folder_name in folders:\n",
    "        input_folder_path = os.path.join(input_base, folder_name)\n",
    "        output_folder_path = os.path.join(output_base, folder_name)\n",
    "        \n",
    "        print(f\"\\n[INFO] Processando la cartella: {input_folder_path}\")\n",
    "\n",
    "        # Controlla se la cartella di input esiste prima di procedere\n",
    "        if not os.path.isdir(input_folder_path):\n",
    "            print(f\"[ATTENZIONE] La cartella di input non esiste: {input_folder_path}. Salto.\")\n",
    "            continue\n",
    "\n",
    "        # 2. Ottiene l'elenco delle sottocartelle delle classi (es. \"0\", \"1\", \"2\"...)\n",
    "        class_folders = [f for f in os.listdir(input_folder_path) if os.path.isdir(os.path.join(input_folder_path, f))]\n",
    "\n",
    "        # 3. Itera su ogni cartella di classe\n",
    "        for class_folder in class_folders:\n",
    "            input_class_path = os.path.join(input_folder_path, class_folder)\n",
    "            output_class_path = os.path.join(output_folder_path, class_folder)\n",
    "\n",
    "            # Crea la cartella di output per la classe se non esiste già\n",
    "            if not os.path.exists(output_class_path):\n",
    "                os.makedirs(output_class_path)\n",
    "                print(f\"  -> Creata la cartella di output: {output_class_path}\")\n",
    "\n",
    "            # 4. Ottiene la lista di tutte le immagini nella cartella di classe\n",
    "            image_files = os.listdir(input_class_path)\n",
    "            print(f\"  -> Trovate {len(image_files)} immagini nella classe '{class_folder}'. Inizio il resize...\")\n",
    "\n",
    "            # 5. Itera su ogni immagine, la ridimensiona e la salva\n",
    "            for img_name in image_files:\n",
    "                try:\n",
    "                    # Percorso completo dell'immagine di input\n",
    "                    img_input_path = os.path.join(input_class_path, img_name)\n",
    "                    img_array = cv2.imread(img_input_path)\n",
    "                    \n",
    "                    # Salta eventuali file che non possono essere letti\n",
    "                    if img_array is None:\n",
    "                        print(f\"    [ERRORE] Impossibile leggere l'immagine: {img_name}\")\n",
    "                        continue\n",
    "\n",
    "                    # Ridimensiona l'immagine\n",
    "                    new_array = cv2.resize(img_array, (target_size, target_size))\n",
    "                    \n",
    "                    # Percorso completo per salvare l'immagine di output\n",
    "                    img_output_path = os.path.join(output_class_path, img_name)\n",
    "                    \n",
    "                    # Salva la nuova immagine\n",
    "                    cv2.imwrite(img_output_path, new_array)\n",
    "\n",
    "                except Exception as e:\n",
    "                    print(f\"[ERRORE] Eccezione durante il processamento di {img_name}: {e}\")\n",
    "                    pass\n",
    "    \n",
    "    print(\"\\n--- Processo di ridimensionamento completato! ---\")"
   ]
  },
  {
   "cell_type": "code",
   "execution_count": 4,
   "id": "450fa066-1038-41aa-a48d-182115d83141",
   "metadata": {},
   "outputs": [
    {
     "name": "stdout",
     "output_type": "stream",
     "text": [
      "--- Inizio del processo di ridimensionamento del dataset ---\n",
      "\n",
      "[INFO] Processando la cartella: ../Computer_Vision/dataset/train\n",
      "  -> Creata la cartella di output: ../Computer_Vision/train\\0\n",
      "  -> Trovate 3995 immagini nella classe '0'. Inizio il resize...\n",
      "  -> Creata la cartella di output: ../Computer_Vision/train\\1\n",
      "  -> Trovate 436 immagini nella classe '1'. Inizio il resize...\n",
      "  -> Creata la cartella di output: ../Computer_Vision/train\\2\n",
      "  -> Trovate 4097 immagini nella classe '2'. Inizio il resize...\n",
      "  -> Creata la cartella di output: ../Computer_Vision/train\\3\n",
      "  -> Trovate 7215 immagini nella classe '3'. Inizio il resize...\n",
      "  -> Creata la cartella di output: ../Computer_Vision/train\\4\n",
      "  -> Trovate 4965 immagini nella classe '4'. Inizio il resize...\n",
      "  -> Creata la cartella di output: ../Computer_Vision/train\\5\n",
      "  -> Trovate 4830 immagini nella classe '5'. Inizio il resize...\n",
      "  -> Creata la cartella di output: ../Computer_Vision/train\\6\n",
      "  -> Trovate 3171 immagini nella classe '6'. Inizio il resize...\n",
      "\n",
      "[INFO] Processando la cartella: ../Computer_Vision/dataset/test\n",
      "  -> Creata la cartella di output: ../Computer_Vision/test\\0\n",
      "  -> Trovate 958 immagini nella classe '0'. Inizio il resize...\n",
      "  -> Creata la cartella di output: ../Computer_Vision/test\\1\n",
      "  -> Trovate 111 immagini nella classe '1'. Inizio il resize...\n",
      "  -> Creata la cartella di output: ../Computer_Vision/test\\2\n",
      "  -> Trovate 1024 immagini nella classe '2'. Inizio il resize...\n",
      "  -> Creata la cartella di output: ../Computer_Vision/test\\3\n",
      "  -> Trovate 1774 immagini nella classe '3'. Inizio il resize...\n",
      "  -> Creata la cartella di output: ../Computer_Vision/test\\4\n",
      "  -> Trovate 1233 immagini nella classe '4'. Inizio il resize...\n",
      "  -> Creata la cartella di output: ../Computer_Vision/test\\5\n",
      "  -> Trovate 1247 immagini nella classe '5'. Inizio il resize...\n",
      "  -> Creata la cartella di output: ../Computer_Vision/test\\6\n",
      "  -> Trovate 831 immagini nella classe '6'. Inizio il resize...\n",
      "\n",
      "--- Processo di ridimensionamento completato! ---\n"
     ]
    }
   ],
   "source": [
    "# Esegue la funzione con i parametri definiti nella Cella 3\n",
    "resize_dataset(input_base_dir, output_base_dir, folders_to_process, img_size)"
   ]
  }
 ],
 "metadata": {
  "kernelspec": {
   "display_name": "Python 3 (ipykernel)",
   "language": "python",
   "name": "python3"
  },
  "language_info": {
   "codemirror_mode": {
    "name": "ipython",
    "version": 3
   },
   "file_extension": ".py",
   "mimetype": "text/x-python",
   "name": "python",
   "nbconvert_exporter": "python",
   "pygments_lexer": "ipython3",
   "version": "3.10.18"
  }
 },
 "nbformat": 4,
 "nbformat_minor": 5
}
